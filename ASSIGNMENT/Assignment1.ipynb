{
 "cells": [
  {
   "cell_type": "code",
   "execution_count": 1,
   "id": "f35a43eb-051a-412c-9d30-2f5bc91a701d",
   "metadata": {},
   "outputs": [
    {
     "name": "stdout",
     "output_type": "stream",
     "text": [
      "NAME:Ayush kumar\n",
      "BATCH:B6\n",
      "SAP ID:590017862\n",
      "I am using Python version 3.12.6 (tags/v3.12.6:a4a2d2b, Sep  6 2024, 20:11:23) [MSC v.1940 64 bit (AMD64)].\n",
      "Hello Python World!\n"
     ]
    }
   ],
   "source": [
    "import sys\n",
    "python_version = sys.version\n",
    "print(\"NAME:Ayush kumar\\nBATCH:B6\\nSAP ID:590017862\")\n",
    "print(f\"I am using Python version {python_version}.\")\n",
    "\n",
    "\n",
    "print(\"Hello Python World!\")"
   ]
  },
  {
   "cell_type": "markdown",
   "id": "5568f833-d521-4283-b744-1011d6c39699",
   "metadata": {},
   "source": [
    "Write a Python program that takes a user's first and last name as input and\n",
    " prints them in reverse order with a space between them."
   ]
  },
  {
   "cell_type": "code",
   "execution_count": 2,
   "id": "60716d89-fa27-4409-b8ad-6a735bc658c4",
   "metadata": {},
   "outputs": [
    {
     "name": "stdout",
     "output_type": "stream",
     "text": [
      "ramuK hsuyA\n"
     ]
    }
   ],
   "source": [
    "str1=input(\"enter the first name \")\n",
    "str2=input(\"enter the second name \")\n",
    "print((str2[::-1] + \" \"+ str1[::-1]))"
   ]
  },
  {
   "cell_type": "markdown",
   "id": "cb6b3038-83eb-4274-b261-ac3ff4b01055",
   "metadata": {},
   "source": [
    "Write a Python program that takes an input number from the user,\n",
    "converts it to different numeric data types (integer, float, and complex),\n",
    "and displays the converted values."
   ]
  },
  {
   "cell_type": "code",
   "execution_count": 5,
   "id": "e95fc462-af8c-4b8b-9739-8158dad74713",
   "metadata": {},
   "outputs": [
    {
     "name": "stdout",
     "output_type": "stream",
     "text": [
      "Enter a number:  7\n"
     ]
    },
    {
     "name": "stdout",
     "output_type": "stream",
     "text": [
      "Integer: 7\n",
      "Float: 7.0\n",
      "Complex: (7+0j)\n"
     ]
    }
   ],
   "source": [
    "user_input = input(\"Enter a number: \")\n",
    "\n",
    "print(\"Integer:\", int(user_input))\n",
    "print(\"Float:\", float(user_input))\n",
    "print(\"Complex:\", complex(user_input))"
   ]
  },
  {
   "cell_type": "markdown",
   "id": "502346c8-6275-4408-9944-f81ce7b3d120",
   "metadata": {},
   "source": [
    "Create a Python script that calculates the area of a rectangle.\n",
    " And Modify the rectangle area program to format the output so that it displays the area with two decimal places."
   ]
  },
  {
   "cell_type": "code",
   "execution_count": 6,
   "id": "83d33071-52e3-44a9-9cb7-0cb857b38614",
   "metadata": {},
   "outputs": [
    {
     "name": "stdout",
     "output_type": "stream",
     "text": [
      "Enter the lenght of rectangle :  21\n",
      "Enter the width of rectangle :  34\n"
     ]
    },
    {
     "name": "stdout",
     "output_type": "stream",
     "text": [
      "The area is 714.00\n"
     ]
    }
   ],
   "source": [
    "length=float(input(\"Enter the lenght of rectangle : \"))\n",
    "width=float(input(\"Enter the width of rectangle : \"))\n",
    "area=length*width\n",
    "print(f\"The area is {area:.2f}\")"
   ]
  },
  {
   "cell_type": "markdown",
   "id": "35020514-8286-45db-9555-967bd55f7034",
   "metadata": {},
   "source": [
    "Write a Python script that takes three numbers as input and\n",
    " prints their average using the % method for string formatting"
   ]
  },
  {
   "cell_type": "markdown",
   "id": "5a7925b8-ad9f-421a-80c6-0d2d7ce7e861",
   "metadata": {},
   "source": [
    "num1=float(input(\"enter the first number :\"))\n",
    "\n",
    "num2=float(input(\"enter the second number :\"))\n",
    "\n",
    "num3=float(input(\"enter the third number :\"))\n",
    "\n",
    "avg=(num1+num2+num3)/3\n",
    "print(\"The average of given number is %.2f\" %avg)"
   ]
  },
  {
   "cell_type": "code",
   "execution_count": null,
   "id": "2c463b95-85cd-454a-958f-b7d4c0d15c5b",
   "metadata": {},
   "outputs": [],
   "source": [
    "Write a Python program that asks the user for a number and determines whether it is positive, negative, or zero.\n",
    "\n",
    "Implement a loop that continues to ask the user for a number until they enter 'exit'.\n",
    "\n",
    "Use break to exit the loop and continue to prompt for a new number if the input is not 'exit'."
   ]
  },
  {
   "cell_type": "code",
   "execution_count": 8,
   "id": "80007e52-14ea-4fa4-8d08-cbdcf5c8d40f",
   "metadata": {},
   "outputs": [
    {
     "name": "stdout",
     "output_type": "stream",
     "text": [
      "Enter a number (or type 'exit' to quit):  5\n"
     ]
    },
    {
     "name": "stdout",
     "output_type": "stream",
     "text": [
      "5.0 is a positive number.\n"
     ]
    },
    {
     "name": "stdout",
     "output_type": "stream",
     "text": [
      "Enter a number (or type 'exit' to quit):  -8\n"
     ]
    },
    {
     "name": "stdout",
     "output_type": "stream",
     "text": [
      "-8.0 is a negative number.\n"
     ]
    },
    {
     "name": "stdout",
     "output_type": "stream",
     "text": [
      "Enter a number (or type 'exit' to quit):  0\n"
     ]
    },
    {
     "name": "stdout",
     "output_type": "stream",
     "text": [
      "0.0 is zero.\n"
     ]
    },
    {
     "name": "stdout",
     "output_type": "stream",
     "text": [
      "Enter a number (or type 'exit' to quit):  exit\n"
     ]
    }
   ],
   "source": [
    "while True:\n",
    "    user_input = input(\"Enter a number (or type 'exit' to quit): \")\n",
    "\n",
    "    if user_input.lower() == 'exit':\n",
    "        break\n",
    "\n",
    "    try:\n",
    "        num = float(user_input)\n",
    "        if num > 0:\n",
    "            print(f\"{num} is a positive number.\")\n",
    "        elif num < 0:\n",
    "            print(f\"{num} is a negative number.\")\n",
    "        else:\n",
    "            print(f\"{num} is zero.\")\n",
    "    except ValueError:\n",
    "        print(\"Invalid input. Please enter a number or type 'exit' to quit.\")\n",
    "        continue\n"
   ]
  },
  {
   "cell_type": "markdown",
   "id": "a587ab2d-1dd1-4441-9802-1a1571c942cf",
   "metadata": {},
   "source": [
    "Create a Python script that takes two numbers as input and \n",
    "prints whether both numbers are even, odd, or one of each using relational and logical operators"
   ]
  },
  {
   "cell_type": "code",
   "execution_count": 9,
   "id": "2fbbcec7-6bbc-4b63-8abb-ef1294aa00aa",
   "metadata": {},
   "outputs": [
    {
     "name": "stdout",
     "output_type": "stream",
     "text": [
      "Enter the first value : 5\n",
      "Enter the  second value : 6\n"
     ]
    },
    {
     "name": "stdout",
     "output_type": "stream",
     "text": [
      "One number is even and the other is odd.\n"
     ]
    }
   ],
   "source": [
    "val1 = int(input(\"Enter the first value :\"))\n",
    "                 \n",
    "val2 = int(input(\"Enter the  second value :\"))\n",
    "        \n",
    "if(val1%2==0 and val2%2==0):\n",
    "    print(\"both are even\")\n",
    "\n",
    "elif(val1%2!=0 and val2%2!=0):\n",
    "    print(\"both are odd\")\n",
    "elif(val1%2!=0 or val2%2!=0):\n",
    "    print(\"One number is even and the other is odd.\")"
   ]
  },
  {
   "cell_type": "code",
   "execution_count": null,
   "id": "2b98027c-fc96-477a-879a-90b58e93f774",
   "metadata": {},
   "outputs": [],
   "source": [
    " Write a Python program that takes an integer input and\n",
    " prints its binary, octal, and hexadecimal equivalents using a for loop and bitwise operators."
   ]
  },
  {
   "cell_type": "code",
   "execution_count": 10,
   "id": "81ae6a88-1cf8-4d20-bf58-e48dbdf076a9",
   "metadata": {},
   "outputs": [
    {
     "name": "stdout",
     "output_type": "stream",
     "text": [
      "Enter an integer:  18\n"
     ]
    },
    {
     "name": "stdout",
     "output_type": "stream",
     "text": [
      "Binary: 10010\n",
      "Hexadecimal: 12\n",
      "Octal: 22\n"
     ]
    }
   ],
   "source": [
    "num = int(input(\"Enter an integer: \"))\n",
    "\n",
    "formats = [('Binary', bin), ('Hexadecimal', hex), ('Octal', oct)]\n",
    "\n",
    "for name, func in formats:\n",
    "    print(f\"{name}: {func(num)[2:].upper()}\")"
   ]
  },
  {
   "cell_type": "code",
   "execution_count": null,
   "id": "4619dcbf-9da7-4b46-91db-95f81af769e5",
   "metadata": {},
   "outputs": [],
   "source": []
  }
 ],
 "metadata": {
  "kernelspec": {
   "display_name": "Python 3 (ipykernel)",
   "language": "python",
   "name": "python3"
  },
  "language_info": {
   "codemirror_mode": {
    "name": "ipython",
    "version": 3
   },
   "file_extension": ".py",
   "mimetype": "text/x-python",
   "name": "python",
   "nbconvert_exporter": "python",
   "pygments_lexer": "ipython3",
   "version": "3.12.6"
  }
 },
 "nbformat": 4,
 "nbformat_minor": 5
}
