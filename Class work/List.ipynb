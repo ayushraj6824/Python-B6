{
 "cells": [
  {
   "cell_type": "markdown",
   "metadata": {},
   "source": [
    "Write a program that takes a list of sap ids and returns a list of email addresses\n",
    "\n",
    "1 without using map , filter lambda or list comprehension\n",
    "2 using map, Filter,lambda without using list comprehension\n",
    "3 using list comprehension"
   ]
  },
  {
   "cell_type": "code",
   "execution_count": 1,
   "metadata": {},
   "outputs": [
    {
     "name": "stdout",
     "output_type": "stream",
     "text": [
      "['123@stu.upes.ac.in', '443@stu.upes.ac.in', '23@stu.upes.ac.in']\n"
     ]
    }
   ],
   "source": [
    "def generate_emails_addresses(sap_ids):\n",
    "    emails = []\n",
    "    for sap_id in sap_ids:\n",
    "    \n",
    "        email = sap_id + \"@stu.upes.ac.in\"\n",
    "        emails.append(email)\n",
    "    return emails\n",
    "\n",
    "\n",
    "Sap=[]\n",
    "n=int(input(\"enter no of element :\"))\n",
    "for i in range(n):\n",
    "    id=input(\"enter SAP ID :\")\n",
    "    Sap.append(id)\n",
    "\n",
    "print(generate_emails_addresses(Sap))\n",
    "\n"
   ]
  },
  {
   "cell_type": "code",
   "execution_count": null,
   "metadata": {},
   "outputs": [],
   "source": []
  }
 ],
 "metadata": {
  "kernelspec": {
   "display_name": "Python 3 (ipykernel)",
   "language": "python",
   "name": "python3"
  },
  "language_info": {
   "codemirror_mode": {
    "name": "ipython",
    "version": 3
   },
   "file_extension": ".py",
   "mimetype": "text/x-python",
   "name": "python",
   "nbconvert_exporter": "python",
   "pygments_lexer": "ipython3",
   "version": "3.12.6"
  }
 },
 "nbformat": 4,
 "nbformat_minor": 4
}
